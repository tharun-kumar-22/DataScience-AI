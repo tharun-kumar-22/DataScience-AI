{
 "cells": [
  {
   "cell_type": "code",
   "execution_count": 1,
   "id": "d81e839d",
   "metadata": {
    "scrolled": false
   },
   "outputs": [
    {
     "name": "stdout",
     "output_type": "stream",
     "text": [
      "DataFrame is written to Excel File successfully.\n"
     ]
    }
   ],
   "source": [
    "from bs4 import BeautifulSoup\n",
    "import requests\n",
    "import re\n",
    "import linecache\n",
    "import pandas as pd\n",
    "\n",
    "with open(r\"url.txt\", 'r') as fp:\n",
    "    for count, line in enumerate(fp):\n",
    "        pass\n",
    "number_of_entries = count + 2\n",
    "\n",
    "List=[]\n",
    "for x in range(1,number_of_entries):\n",
    "    Link = linecache.getline('url.txt', x)\n",
    "    url = Link.rstrip(\"\\n\")\n",
    "    page = requests.get(url)\n",
    "    soup = BeautifulSoup(page.content, 'html.parser')\n",
    "    tag = soup.find_all('li', class_ =\"flex flex-space-between\")\n",
    "    m = []\n",
    "    for i in tag:\n",
    "        i = i.get_text().replace('\\n',\"\")\n",
    "        i = i.strip(\" \")\n",
    "        m.append(i)\n",
    "    data = pd.DataFrame()\n",
    "    for title in soup.find_all('title'):\n",
    "        title=title.get_text().replace('financial results and price chart - Screener',\"\")\n",
    "    data[title] = m\n",
    "    df=data.drop([0,5,8])\n",
    "    df=df.replace(to_replace ={\"Current Price\",\"High / Low\",\"Stock P/E\",\"Book Value\",\"ROCE\",\"ROE\"}, value =\"\",regex=True)\n",
    "    df.index = ['Current_Price in ₹','High/Low in ₹','Stock P/E ratio','Book Value in ₹','ROCE in %','ROE in %']\n",
    "    List.append(df)\n",
    "for x in List:\n",
    "    x\n",
    "\n",
    "result = pd.concat(List)\n",
    "dfT=result.T\n",
    "df1=dfT.groupby(dfT.columns, axis=1).sum()\n",
    "dff1=df1.drop(['High/Low in ₹'], axis = 1)\n",
    "dff2=df1['High/Low in ₹'].str.split('/', expand=True)\n",
    "dff2.columns =['High in ₹','Low in ₹']\n",
    "dff3= pd.merge(dff1, dff2, left_index=True, right_index=True)\n",
    "dff4=dff3.replace(to_replace ={\"₹\",\",\",\"%\"}, value =\"\",regex=True)\n",
    "dff4[['Current_Price in ₹','High in ₹','Low in ₹','Stock P/E ratio','Book Value in ₹','ROCE in %','ROE in %']] = dff4[['Current_Price in ₹','High in ₹','Low in ₹','Stock P/E ratio','Book Value in ₹','ROCE in %','ROE in %']].astype(float)\n",
    "dff4['High in ₹ - Current_Price in ₹'] = dff4['High in ₹'] - dff4['Current_Price in ₹']\n",
    "dff4['Percent_change_of_Current_Price_from_High in %']=(dff4['High in ₹ - Current_Price in ₹']/dff4['High in ₹'])*100\n",
    "dfFinal=dff4.drop(['High in ₹ - Current_Price in ₹'], axis = 1)\n",
    "\n",
    "\n",
    "file_name = 'StockValues.xlsx'\n",
    "\n",
    "dfFinal.to_excel(file_name)\n",
    "print('DataFrame is written to Excel File successfully.')"
   ]
  }
 ],
 "metadata": {
  "kernelspec": {
   "display_name": "Python 3 (ipykernel)",
   "language": "python",
   "name": "python3"
  },
  "language_info": {
   "codemirror_mode": {
    "name": "ipython",
    "version": 3
   },
   "file_extension": ".py",
   "mimetype": "text/x-python",
   "name": "python",
   "nbconvert_exporter": "python",
   "pygments_lexer": "ipython3",
   "version": "3.9.7"
  }
 },
 "nbformat": 4,
 "nbformat_minor": 5
}
